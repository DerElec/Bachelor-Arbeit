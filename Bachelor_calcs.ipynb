{
 "cells": [
  {
   "cell_type": "markdown",
   "metadata": {},
   "source": [
    "Compute matrix element"
   ]
  },
  {
   "cell_type": "code",
   "execution_count": 16,
   "metadata": {},
   "outputs": [
    {
     "name": "stdout",
     "output_type": "stream",
     "text": [
      "Result is:\n",
      "⎡0                  0                                   0                 ⎤\n",
      "⎢                                                                         ⎥\n",
      "⎢                                           -2⋅ⅈ⋅t⋅w_c  -ⅈ⋅t⋅wₗ           ⎥\n",
      "⎢0                  0                  1.0⋅ℯ          ⋅ℯ       ⋅cos(t⋅w_c)⎥\n",
      "⎢                                                                         ⎥\n",
      "⎢        2⋅ⅈ⋅t⋅w_c  ⅈ⋅t⋅wₗ                                                ⎥\n",
      "⎣0  1.0⋅ℯ         ⋅ℯ      ⋅cos(t⋅w_c)                   0                 ⎦\n"
     ]
    }
   ],
   "source": [
    "import sympy as sp\n",
    "import numpy as np\n",
    "\n",
    "N = sp.symbols('N', integer=True)  \n",
    "w_c, w_l, w_1,w_2,Omega, t,gamma = sp.symbols('w_c w_l w_1 w_2 Omega t gamma')\n",
    "\n",
    "ket0 = sp.Matrix([1,0, 0])\n",
    "bra0 = ket0.T\n",
    "ket1 = sp.Matrix([0,1, 0])\n",
    "bra1 = ket1.T\n",
    "ket2 = sp.Matrix([0, 0,1])  \n",
    "bra2 = ket2.T\n",
    "\n",
    "\n",
    "proj1 = ket1 * bra1\n",
    "proj2 = ket2 * bra2\n",
    "\n",
    "\n",
    "#a = sp.Matrix([[0, 1, 0], [0, 0, sp.sqrt(2)], [0, 0, 0]])\n",
    "#ad = sp.Matrix([[0, 0, 0], [1, 0, 0], [0, sp.sqrt(2), 0]])\n",
    "\n",
    "\n",
    "exp1_k = sp.exp(-1j * w_c * proj1 * t)\n",
    "exp2_k = sp.exp(-1j * (-w_c - w_l) * proj2 * t)\n",
    "exp1_dag_k = sp.exp(1j * w_c * proj1 * t)\n",
    "exp2_dag_k = sp.exp(1j * (-w_c - w_l) * proj2 * t)\n",
    "\n",
    "\n",
    "U_1 = exp1_k * exp2_k\n",
    "U_dag_1 = exp1_dag_k * exp2_dag_k\n",
    "H_1 = w_2 * proj2\n",
    "H_2 = w_1 * proj1\n",
    "H_3 = (ket1*bra2+ket2*bra1)*sp.cos(w_c*t)\n",
    "#H_4 = gamma*(ket0*bra1+ket1*bra0)*(a+ad)\n",
    "\n",
    "\n",
    "\n",
    "#result_1 = U_1 * H_1 * U_dag_1\n",
    "#result_2 = U_1 * H_2 * U_dag_1\n",
    "#result_3 = U_1 * H_3 * U_dag_1\n",
    "result_4 = U_1 * H_3 * U_dag_1\n",
    "\n",
    "\n",
    "\n",
    "\n",
    "print(\"Result is:\")\n",
    "sp.pprint(result_3.expand())"
   ]
  }
 ],
 "metadata": {
  "kernelspec": {
   "display_name": "base",
   "language": "python",
   "name": "python3"
  },
  "language_info": {
   "codemirror_mode": {
    "name": "ipython",
    "version": 3
   },
   "file_extension": ".py",
   "mimetype": "text/x-python",
   "name": "python",
   "nbconvert_exporter": "python",
   "pygments_lexer": "ipython3",
   "version": "3.11.7"
  }
 },
 "nbformat": 4,
 "nbformat_minor": 2
}
